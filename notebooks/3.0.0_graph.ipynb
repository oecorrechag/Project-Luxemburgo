{
 "cells": [
  {
   "attachments": {},
   "cell_type": "markdown",
   "metadata": {},
   "source": [
    "# 2.0.0 Graph"
   ]
  },
  {
   "cell_type": "code",
   "execution_count": 1,
   "metadata": {},
   "outputs": [],
   "source": [
    "%load_ext autoreload\n",
    "%autoreload 2"
   ]
  },
  {
   "cell_type": "code",
   "execution_count": 30,
   "metadata": {},
   "outputs": [],
   "source": [
    "import pandas as pd\n",
    "import numpy as np\n",
    "\n",
    "import matplotlib.pyplot as plt\n",
    "import plotly.express as px\n",
    "\n",
    "from sklearn.manifold import TSNE\n",
    "\n",
    "pd.set_option('display.max_columns', None)\n",
    "pd.set_option('display.max_rows', None)\n",
    "import warnings\n",
    "warnings.filterwarnings(\"ignore\")"
   ]
  },
  {
   "cell_type": "code",
   "execution_count": 3,
   "metadata": {},
   "outputs": [],
   "source": [
    "import sys\n",
    "sys.path.append(\"../\") \n",
    "\n",
    "from utils.paths2 import direcciones_cursos\n",
    "\n",
    "G_raw, G_processed, G_interim, G_external, G_models, G_reports, G_reports_figures = direcciones_cursos('luxemburgo')"
   ]
  },
  {
   "cell_type": "code",
   "execution_count": 4,
   "metadata": {},
   "outputs": [
    {
     "data": {
      "text/html": [
       "<div>\n",
       "<style scoped>\n",
       "    .dataframe tbody tr th:only-of-type {\n",
       "        vertical-align: middle;\n",
       "    }\n",
       "\n",
       "    .dataframe tbody tr th {\n",
       "        vertical-align: top;\n",
       "    }\n",
       "\n",
       "    .dataframe thead th {\n",
       "        text-align: right;\n",
       "    }\n",
       "</style>\n",
       "<table border=\"1\" class=\"dataframe\">\n",
       "  <thead>\n",
       "    <tr style=\"text-align: right;\">\n",
       "      <th></th>\n",
       "      <th>x1</th>\n",
       "      <th>x2</th>\n",
       "      <th>x3</th>\n",
       "      <th>x4</th>\n",
       "      <th>x5</th>\n",
       "      <th>x6</th>\n",
       "      <th>x7</th>\n",
       "      <th>x8</th>\n",
       "      <th>x9</th>\n",
       "      <th>x10</th>\n",
       "    </tr>\n",
       "  </thead>\n",
       "  <tbody>\n",
       "    <tr>\n",
       "      <th>0</th>\n",
       "      <td>1</td>\n",
       "      <td>3</td>\n",
       "      <td>4</td>\n",
       "      <td>2</td>\n",
       "      <td>103</td>\n",
       "      <td>3</td>\n",
       "      <td>6</td>\n",
       "      <td>0</td>\n",
       "      <td>4</td>\n",
       "      <td>0</td>\n",
       "    </tr>\n",
       "    <tr>\n",
       "      <th>1</th>\n",
       "      <td>1</td>\n",
       "      <td>4</td>\n",
       "      <td>4</td>\n",
       "      <td>2</td>\n",
       "      <td>98</td>\n",
       "      <td>3</td>\n",
       "      <td>6</td>\n",
       "      <td>0</td>\n",
       "      <td>4</td>\n",
       "      <td>0</td>\n",
       "    </tr>\n",
       "    <tr>\n",
       "      <th>2</th>\n",
       "      <td>1</td>\n",
       "      <td>2</td>\n",
       "      <td>4</td>\n",
       "      <td>2</td>\n",
       "      <td>15</td>\n",
       "      <td>3</td>\n",
       "      <td>6</td>\n",
       "      <td>0</td>\n",
       "      <td>4</td>\n",
       "      <td>1</td>\n",
       "    </tr>\n",
       "    <tr>\n",
       "      <th>3</th>\n",
       "      <td>1</td>\n",
       "      <td>2</td>\n",
       "      <td>4</td>\n",
       "      <td>2</td>\n",
       "      <td>15</td>\n",
       "      <td>3</td>\n",
       "      <td>6</td>\n",
       "      <td>0</td>\n",
       "      <td>4</td>\n",
       "      <td>0</td>\n",
       "    </tr>\n",
       "    <tr>\n",
       "      <th>4</th>\n",
       "      <td>1</td>\n",
       "      <td>4</td>\n",
       "      <td>4</td>\n",
       "      <td>2</td>\n",
       "      <td>68</td>\n",
       "      <td>3</td>\n",
       "      <td>6</td>\n",
       "      <td>0</td>\n",
       "      <td>4</td>\n",
       "      <td>0</td>\n",
       "    </tr>\n",
       "  </tbody>\n",
       "</table>\n",
       "</div>"
      ],
      "text/plain": [
       "   x1  x2  x3  x4   x5  x6  x7  x8  x9  x10\n",
       "0   1   3   4   2  103   3   6   0   4    0\n",
       "1   1   4   4   2   98   3   6   0   4    0\n",
       "2   1   2   4   2   15   3   6   0   4    1\n",
       "3   1   2   4   2   15   3   6   0   4    0\n",
       "4   1   4   4   2   68   3   6   0   4    0"
      ]
     },
     "execution_count": 4,
     "metadata": {},
     "output_type": "execute_result"
    }
   ],
   "source": [
    "df = pd.read_parquet(G_processed/'df.parquet.gzip')\n",
    "df.head()"
   ]
  },
  {
   "cell_type": "code",
   "execution_count": 10,
   "metadata": {},
   "outputs": [],
   "source": [
    "# Create a TSNE instance: model\n",
    "model = TSNE(n_components=3, learning_rate='auto')"
   ]
  },
  {
   "cell_type": "code",
   "execution_count": 11,
   "metadata": {},
   "outputs": [],
   "source": [
    "# Apply fit_transform to samples: tsne_features\n",
    "tsne_features = model.fit_transform(df)"
   ]
  },
  {
   "cell_type": "code",
   "execution_count": 12,
   "metadata": {},
   "outputs": [],
   "source": [
    "# Select the 0th feature: xs\n",
    "xs = tsne_features[:,0]\n",
    "\n",
    "# Select the 1st feature: ys\n",
    "ys = tsne_features[:,1]"
   ]
  },
  {
   "cell_type": "code",
   "execution_count": 13,
   "metadata": {},
   "outputs": [
    {
     "data": {
      "image/png": "[encoded data removed]",
      "text/plain": [
       "<Figure size 640x480 with 1 Axes>"
      ]
     },
     "metadata": {},
     "output_type": "display_data"
    }
   ],
   "source": [
    "# Scatter plot, coloring by variety_numbers\n",
    "plt.scatter(xs, ys) #, c=variety_numbers\n",
    "plt.show()"
   ]
  },
  {
   "cell_type": "code",
   "execution_count": 41,
   "metadata": {},
   "outputs": [
    {
     "data": {
      "application/vnd.plotly.v1+json": {
       "config": {
        "plotlyServerURL": "https://plot.ly"
       },
       "data": [
        {
         "hovertemplate": "=%{y}<extra></extra>",
         "legendgroup": "",
         "marker": {
          "color": "#636efa",
          "symbol": "circle"
         },
         "mode": "markers",
         "name": "",
         "orientation": "v",
         "showlegend": false,
         "type": "scatter",
         "x": [
          13.532740592956543,
          9.627673149108887,
          -0.5850385427474976,
          -0.2675183117389679,
          1.195861577987671,
          0.0283603947609663,
          -4.038240432739258,
          5.8056793212890625,
          0.05483536049723625,
          -0.40833279490470886,
          0.42735058069229126,
          -0.04506877064704895,
          10.580936431884766,
          0.12358562648296356,
          -0.4041014611721039,
          -1.4403682947158813,
          0.13996478915214539,
          9.67509651184082,
          -1.2948962450027466,
          -0.22683490812778473,
          -1.4059975147247314,
          -1.535232663154602,
          1.5814366340637207,
          -0.7457412481307983,
          1.1958868503570557,
          -0.7053788304328918,
          -0.76495760679245,
          0.11730334162712097,
          -3.4079525470733643,
          -1.4759671688079834,
          -0.051218535751104355,
          -3.3850021362304688,
          13.44189167022705,
          1.5900611877441406,
          -1.3961455821990967,
          -0.8360298275947571,
          9.705164909362793,
          -3.9074246883392334,
          -6.661965370178223,
          -3.8477957248687744,
          -1.544177532196045,
          4.379388809204102,
          -0.24081937968730927,
          0.12764480710029602,
          -4.152789115905762,
          10.603036880493164,
          -0.0003795736702159047,
          0.6967211365699768,
          -5.577059268951416,
          -6.009884357452393,
          4.384222507476807,
          -0.19589252769947052,
          -3.980226993560791,
          -5.6129631996154785,
          15.415526390075684,
          14.760916709899902,
          -4.501779079437256,
          -5.544383525848389,
          -6.822650909423828,
          7.853952884674072,
          -5.898926258087158,
          13.714692115783691,
          6.555375099182129,
          -6.002374649047852,
          -6.271359443664551,
          -0.8672448992729187,
          -4.217640399932861,
          7.613605499267578,
          -5.498108386993408,
          4.76408052444458,
          -1.0301432609558105,
          -5.2900285720825195,
          -6.441728115081787,
          -1.016748070716858,
          -1.5346362590789795,
          5.434723854064941,
          -6.086586952209473,
          9.227161407470703,
          4.730421543121338,
          -5.615738391876221,
          -6.213114261627197,
          -0.2352384328842163,
          -7.012300968170166,
          -1.6051241159439087,
          -6.783474445343018,
          14.367283821105957,
          9.279679298400879,
          -1.715444803237915,
          3.2476229667663574,
          -6.771149158477783,
          -2.8933041095733643,
          -2.0414915084838867,
          -4.934382915496826,
          13.712937355041504,
          -5.999992847442627,
          -6.2212724685668945,
          -3.171302556991577,
          -9.256002426147461,
          -5.670525074005127,
          -5.11523962020874,
          -6.083135604858398,
          -2.3688361644744873,
          8.08709716796875,
          0.6981526613235474,
          -5.834155082702637,
          -1.2700508832931519,
          -7.562979221343994,
          10.36409854888916,
          -6.127337455749512,
          8.501898765563965,
          -5.163298606872559,
          0.5361024141311646,
          -1.6447852849960327,
          -6.436026096343994,
          6.803441524505615,
          -5.3418073654174805,
          -4.521149635314941,
          10.379420280456543,
          -7.067217826843262,
          -7.554080963134766,
          -1.8462255001068115,
          -2.0004918575286865,
          -5.500056266784668,
          -1.953035593032837,
          7.4257121086120605,
          0.5560570359230042,
          -3.197092294692993,
          -6.0535054206848145,
          -0.8000878095626831,
          8.479785919189453,
          -7.499333381652832,
          -5.048340797424316,
          -6.966128826141357,
          12.536417961120605,
          -4.651185512542725,
          -7.213281631469727,
          -1.7354623079299927,
          -5.500461578369141,
          -10.200172424316406,
          -9.757826805114746,
          -1.9644027948379517,
          -4.694985389709473,
          -5.908641338348389,
          -2.142138719558716,
          7.088369846343994,
          7.093871593475342,
          5.44941520690918,
          -7.555192947387695,
          2.596484422683716,
          14.23653793334961,
          -5.475580215454102,
          4.696506500244141,
          0.532081127166748,
          -9.480972290039062,
          -7.95865535736084,
          -2.735330820083618,
          10.713403701782227,
          -2.0110809803009033,
          -1.3836804628372192,
          6.449073791503906,
          12.151716232299805,
          13.701240539550781,
          -6.154921054840088,
          -6.974001407623291,
          8.599295616149902,
          -6.261417865753174,
          -8.094696044921875,
          -7.589929103851318,
          15.151283264160156,
          -4.4645161628723145,
          -4.97269344329834,
          -1.7541130781173706,
          14.787676811218262,
          -6.024831295013428,
          -8.791773796081543,
          6.548359394073486,
          -6.250485897064209,
          -1.554241418838501,
          7.637727737426758,
          -5.1240057945251465,
          6.696643352508545,
          0.9856370091438293,
          -8.280909538269043,
          -2.33457088470459,
          6.687671661376953,
          -9.094918251037598,
          8.174552917480469,
          -4.673707008361816,
          9.671998977661133,
          -6.295053005218506,
          14.972136497497559,
          -2.2275946140289307,
          10.561229705810547,
          5.471254348754883,
          -7.253839492797852,
          -6.506840705871582,
          0.1606404036283493,
          8.604657173156738,
          -4.27406120300293,
          -7.281221389770508,
          14.510562896728516,
          -2.6892120838165283,
          -5.222244739532471,
          -0.5427544116973877,
          -9.172150611877441,
          -5.274991989135742,
          -5.648749351501465,
          8.757753372192383,
          8.76059341430664,
          -5.103331089019775,
          -1.397491693496704,
          -5.210687160491943,
          -2.157626152038574,
          -6.010690689086914,
          10.483797073364258,
          3.6468164920806885,
          5.135171890258789,
          -7.214156150817871,
          8.859794616699219,
          -2.7783873081207275,
          -5.920372486114502,
          -7.499439239501953,
          -3.727048635482788,
          0.4178003966808319,
          -6.441553592681885,
          14.84640884399414,
          -8.43885326385498,
          -6.066567420959473,
          6.81129264831543,
          -7.5023322105407715,
          -1.7367740869522095,
          8.673587799072266,
          -5.014794826507568,
          -0.2201998382806778,
          3.236400842666626,
          -4.187508583068848,
          14.325949668884277,
          9.111091613769531,
          15.261873245239258,
          -1.1166698932647705,
          8.298173904418945,
          -5.451066970825195,
          7.476983070373535,
          -4.623875617980957,
          -5.982610702514648,
          -4.897226810455322,
          0.2738611102104187,
          -9.37888240814209,
          -2.0290095806121826,
          -8.143463134765625,
          -5.491891860961914,
          -5.72322940826416,
          -2.259917736053467,
          -3.8452022075653076,
          -0.5573328137397766,
          -6.084738254547119,
          -3.202547550201416,
          -7.9525041580200195,
          -3.7329347133636475,
          9.382728576660156,
          -1.5702928304672241,
          3.3549273014068604,
          14.683027267456055,
          -4.966595649719238,
          7.241466999053955,
          -9.56112289428711,
          -8.577726364135742,
          12.520987510681152,
          7.525439262390137,
          14.18857192993164,
          1.2962485551834106,
          -5.968307971954346,
          -5.703272819519043,
          0.30493655800819397,
          -3.261505365371704,
          -1.0842599868774414,
          7.499453067779541,
          8.218682289123535,
          3.624328851699829,
          -5.9375433921813965,
          -5.836740493774414,
          -0.3940248191356659,
          -6.311847686767578,
          -1.5644687414169312,
          -4.965923309326172,
          -5.688288688659668,
          7.6144304275512695,
          0.37554410099983215,
          4.827530860900879,
          8.722685813903809,
          -3.5629594326019287,
          -7.046684741973877,
          -6.583590507507324,
          14.626328468322754,
          14.155561447143555,
          8.301143646240234,
          9.942643165588379,
          10.722980499267578,
          -5.215595245361328,
          7.051491737365723,
          -6.758603572845459,
          10.50580883026123,
          -3.6517791748046875,
          -5.765312671661377,
          10.064582824707031,
          -7.092574596405029,
          13.561840057373047,
          -7.104416370391846,
          7.046489715576172,
          14.123542785644531,
          5.463420867919922,
          -2.2255852222442627,
          9.402949333190918,
          -7.699304103851318,
          -8.785575866699219,
          -3.926858901977539,
          -6.432194232940674,
          4.723989486694336,
          -5.879478454589844,
          -6.994013786315918,
          -7.550992012023926,
          9.8643217086792,
          -3.188000202178955,
          -5.413007736206055,
          12.52912712097168,
          7.716762542724609,
          6.5113420486450195,
          0.5907281637191772,
          0.46175119280815125,
          8.177041053771973,
          -5.182358741760254,
          -0.06436729431152344,
          -6.759410381317139,
          7.484915256500244,
          2.377401828765869,
          10.209449768066406,
          -5.530009746551514,
          13.36684513092041,
          -6.484044551849365,
          7.158779144287109,
          -1.7353942394256592,
          5.826637268066406,
          9.050536155700684,
          -5.3978376388549805,
          -4.955095291137695,
          -4.666553497314453,
          3.4866690635681152,
          -6.135056972503662,
          -0.4848526120185852,
          -0.022633487358689308,
          -5.480594158172607,
          5.270359516143799,
          6.914634704589844,
          0.7464239597320557,
          -4.959216594696045,
          -6.2377495765686035,
          -6.711843967437744,
          -5.369608402252197,
          3.5512990951538086,
          -2.118818521499634,
          -6.665195941925049,
          -5.396374225616455,
          15.565643310546875,
          0.23219971358776093,
          -6.7842793464660645,
          -3.9543297290802,
          7.685083389282227,
          -4.01615047454834,
          2.73172664642334,
          7.552305221557617,
          0.03319043293595314,
          1.0320879220962524,
          7.634247779846191,
          -0.6613288521766663,
          -6.255286693572998,
          8.020383834838867,
          -6.703398704528809,
          -7.909512996673584,
          5.150189399719238,
          2.7149598598480225,
          7.078617095947266,
          -0.11248182505369186,
          -6.927525520324707,
          -6.464511394500732,
          -4.7225470542907715,
          -0.4731290638446808,
          -2.0452914237976074,
          -4.195021152496338,
          8.143473625183105,
          14.85642147064209,
          -6.0442938804626465,
          4.86057710647583,
          0.42285579442977905,
          14.98619270324707,
          9.300142288208008,
          -5.489655494689941,
          8.669110298156738,
          -7.604267120361328,
          -9.00606632232666,
          -4.644014835357666,
          -2.1352834701538086,
          -2.244666576385498,
          6.974377632141113,
          -5.451809406280518,
          2.187130928039551,
          0.016030704602599144,
          3.5249316692352295,
          -1.2696096897125244,
          -0.09304637461900711,
          -6.742652416229248,
          -3.645343065261841,
          15.0026273727417,
          -3.433746814727783,
          -10.135242462158203,
          -7.559913158416748,
          12.43413257598877,
          -6.60260534286499,
          15.184577941894531,
          -1.5626991987228394,
          9.701644897460938,
          -9.274582862854004,
          -7.342630863189697,
          3.8753843307495117,
          6.64871883392334,
          -3.734107494354248,
          -9.63434886932373,
          -5.283208847045898,
          -3.7095513343811035,
          -7.0160393714904785,
          -1.5974035263061523,
          -9.009737014770508,
          12.849096298217773,
          2.550010919570923,
          -5.057698726654053,
          14.117722511291504,
          -4.037766933441162,
          -6.0749101638793945,
          -5.263409614562988,
          -5.8570556640625,
          -5.097627639770508,
          -4.56064510345459,
          -0.10839147865772247,
          -7.880229949951172,
          -6.398392200469971,
          -2.314373731613159,
          -0.8226091861724854,
          -6.805301189422607,
          -0.21993263065814972,
          -9.209145545959473,
          12.067166328430176,
          -6.6726579666137695,
          -5.608067035675049,
          14.721166610717773,
          -5.630910873413086,
          -5.12620735168457,
          -1.4370026588439941,
          -0.525743305683136,
          5.561511039733887,
          -3.964831829071045,
          -6.165916919708252,
          1.7255529165267944,
          -3.3402063846588135,
          -1.6492315530776978,
          9.451160430908203,
          -1.9663065671920776,
          0.47069042921066284,
          4.449820041656494,
          -6.8240461349487305,
          0.537277102470398,
          6.330907344818115,
          -1.6696217060089111,
          3.5633106231689453,
          6.324909210205078,
          1.3345922231674194,
          13.048809051513672,
          -7.039599418640137,
          -1.0105890035629272,
          0.1928476095199585,
          -5.482909202575684,
          -0.030290639027953148,
          -5.973138332366943,
          8.125988960266113,
          -7.611679553985596,
          13.574007987976074,
          3.6792380809783936,
          -5.967377662658691,
          12.040876388549805,
          8.766389846801758,
          -5.495554447174072,
          4.4292216300964355,
          -6.161171913146973,
          0.19420377910137177,
          14.298434257507324,
          -8.526278495788574,
          13.06307315826416,
          -0.03143739700317383,
          -5.079633712768555,
          10.401135444641113,
          8.692818641662598,
          10.769847869873047,
          -1.8067395687103271,
          -3.8054330348968506,
          8.739175796508789,
          -2.443368434906006,
          -2.5557034015655518,
          -6.468423843383789,
          -6.03386116027832,
          9.754018783569336,
          -2.397582530975342,
          10.24673843383789,
          6.862452030181885,
          -6.957686424255371,
          7.401995658874512,
          8.894978523254395,
          13.681418418884277,
          -5.9983720779418945,
          6.802387237548828,
          9.246586799621582,
          0.8038102984428406,
          -6.335631847381592,
          12.495442390441895,
          1.5201305150985718,
          6.669305324554443,
          15.485350608825684,
          -1.7687822580337524,
          8.780244827270508,
          6.107481956481934,
          6.99134635925293,
          15.55942153930664,
          -5.405543327331543,
          -5.901008129119873,
          -5.0145978927612305,
          -7.788488864898682,
          -6.248615264892578,
          -7.956994533538818,
          -5.197194576263428,
          -2.2457163333892822,
          -6.875781059265137,
          -6.5284624099731445,
          5.684138774871826,
          -3.252723455429077,
          10.57280158996582,
          -4.240237712860107,
          5.074704170227051,
          -7.810535907745361,
          -1.7226365804672241,
          15.218589782714844,
          -8.005376815795898,
          7.633957386016846,
          -7.436878204345703,
          -1.1836373805999756,
          14.299203872680664,
          7.1453776359558105,
          12.482126235961914,
          6.545912742614746,
          -5.2260026931762695,
          14.05724048614502,
          -4.970472812652588,
          12.361052513122559,
          6.136388778686523,
          7.039636135101318,
          -6.045686721801758,
          9.239690780639648,
          -1.6646029949188232,
          7.08169412612915,
          12.424642562866211,
          -0.5725613832473755,
          4.709362983703613,
          -2.271354913711548,
          14.351602554321289,
          -4.675093173980713,
          8.844820976257324,
          -2.939589023590088,
          12.491048812866211,
          -6.2267231941223145,
          -6.085682392120361,
          -1.9121098518371582,
          -2.7130353450775146,
          -5.012684345245361,
          -5.226924419403076,
          6.233221530914307,
          -1.6173580884933472,
          -1.7893025875091553,
          14.45833683013916,
          8.591590881347656,
          -8.797403335571289,
          1.3667495250701904,
          9.470762252807617,
          4.381657123565674,
          6.9635443687438965,
          -9.865171432495117,
          -7.831965923309326,
          -6.395663738250732,
          -0.808159589767456,
          15.560991287231445,
          -6.3985676765441895,
          -9.840143203735352,
          -7.954080581665039,
          -5.979443073272705,
          -5.582632064819336,
          -5.991178035736084,
          -6.437129497528076,
          5.290284156799316,
          10.571138381958008,
          12.464558601379395,
          -5.121150493621826,
          -6.882528781890869,
          3.5156688690185547,
          -4.264823913574219,
          -1.8069920539855957,
          -3.313642978668213,
          3.8517842292785645,
          -1.3361544609069824,
          5.561923027038574,
          -5.866039752960205,
          -9.695305824279785,
          8.294903755187988,
          9.404911994934082,
          3.637681007385254,
          -0.610338032245636,
          -6.063625335693359,
          -7.877291679382324,
          -5.923751354217529,
          12.71629810333252,
          6.175047874450684,
          -0.29255178570747375,
          -4.983246326446533,
          -7.322409629821777,
          6.912664890289307,
          14.55066204071045,
          -4.9089789390563965,
          -10.189982414245605,
          7.406427383422852,
          9.901694297790527,
          -6.679750919342041,
          -5.4729390144348145,
          -8.436917304992676,
          -2.677356004714966,
          -0.43041297793388367,
          -5.47129487991333,
          -5.446123123168945,
          7.927781105041504,
          -2.7302868366241455,
          4.731594085693359,
          -2.8967580795288086,
          -1.32392156124115,
          -1.507072925567627,
          9.333108901977539,
          -5.468435764312744,
          -3.22333025932312,
          -1.4183018207550049,
          -1.3815606832504272,
          4.6883697509765625,
          6.858582496643066,
          14.17903995513916,
          -0.43919065594673157,
          -5.43034029006958,
          8.70605754852295,
          -10.206732749938965,
          -3.485822916030884,
          -4.729141712188721,
          -6.408130168914795,
          -4.955181121826172,
          -2.1248366832733154,
          7.927401542663574,
          1.3513929843902588,
          -2.070796012878418,
          -5.615583419799805,
          0.1982506960630417,
          10.2057523727417,
          -5.53640604019165,
          9.33845043182373,
          7.966715335845947,
          -5.093553066253662,
          -5.603704929351807,
          8.252012252807617,
          -5.129682540893555,
          9.552730560302734,
          0.3197312355041504,
          -7.959367752075195,
          -5.851363658905029,
          8.718280792236328,
          -7.337887287139893,
          2.0090558528900146,
          -7.03031587600708,
          4.874325275421143,
          2.3550047874450684,
          0.5951564311981201,
          -2.560056686401367,
          -7.8777289390563965,
          -4.938360214233398,
          -1.2713961601257324,
          5.386129379272461,
          -1.818313717842102,
          13.816999435424805,
          0.4071013927459717,
          -3.862870931625366,
          3.362257957458496,
          -7.130302906036377,
          -2.464304208755493,
          -6.245114326477051,
          6.527530193328857,
          -5.036875247955322,
          -4.201555252075195,
          -4.701818466186523,
          15.486766815185547,
          -5.870917320251465,
          10.611968040466309,
          11.870437622070312,
          6.405032157897949,
          -2.4084534645080566,
          -0.17338165640830994,
          0.8074560165405273,
          9.247984886169434
         ],
         "xaxis": "x",
         "y": [
          -6.9375386238098145,
          -5.254958629608154,
          -2.552224636077881,
          -2.2772865295410156,
          10.81273078918457,
          -1.5920268297195435,
          -1.4351062774658203,
          5.382372856140137,
          -1.4787107706069946,
          -2.7908272743225098,
          -0.8116335272789001,
          -2.472285032272339,
          3.763343572616577,
          -0.9021238684654236,
          -2.756659507751465,
          -2.5711328983306885,
          -0.9609246850013733,
          -5.308372497558594,
          10.688520431518555,
          10.769098281860352,
          -3.494023323059082,
          -3.600438117980957,
          10.691038131713867,
          -2.682657241821289,
          10.821295738220215,
          -2.9695851802825928,
          -2.333724021911621,
          -0.8087146282196045,
          10.311317443847656,
          -2.6735193729400635,
          -3.1656224727630615,
          10.28948974609375,
          -6.932225704193115,
          10.69231128692627,
          -3.5304360389709473,
          -2.685338258743286,
          -5.354407787322998,
          -1.3380401134490967,
          1.212408423423767,
          -1.3577334880828857,
          -3.6051712036132812,
          9.657883644104004,
          -2.3513174057006836,
          -1.0180630683898926,
          -1.3720505237579346,
          3.818659782409668,
          -2.425396203994751,
          -3.5248491764068604,
          6.200944423675537,
          4.228458404541016,
          9.697021484375,
          -2.7112104892730713,
          -1.3951393365859985,
          -3.324253559112549,
          -3.331367015838623,
          1.2842297554016113,
          4.772250652313232,
          2.0773940086364746,
          -4.293684959411621,
          -3.839324474334717,
          1.8992565870285034,
          -6.7422614097595215,
          -2.0782439708709717,
          -10.099431037902832,
          1.0167254209518433,
          -0.2414400428533554,
          -3.8596365451812744,
          -1.6649837493896484,
          4.013240337371826,
          9.146976470947266,
          -0.21045252680778503,
          -2.7260279655456543,
          4.679409980773926,
          10.647371292114258,
          -10.318050384521484,
          3.457782506942749,
          4.81220817565918,
          -1.7413822412490845,
          -2.5996057987213135,
          -3.8690874576568604,
          5.694549083709717,
          0.2552448809146881,
          -9.332350730895996,
          -10.298651695251465,
          1.6511305570602417,
          0.6074309945106506,
          -2.283316135406494,
          -2.4100520610809326,
          9.684122085571289,
          4.787184238433838,
          -11.11474609375,
          -9.741552352905273,
          -2.9038150310516357,
          -6.800407409667969,
          -5.851828575134277,
          1.3642332553863525,
          9.903192520141602,
          2.8729701042175293,
          5.722537517547607,
          -3.005030870437622,
          8.354669570922852,
          10.776982307434082,
          -2.1983914375305176,
          -0.5574044585227966,
          -9.455118179321289,
          -2.3668763637542725,
          4.428354263305664,
          -2.556488037109375,
          2.8386478424072266,
          4.762058258056641,
          -3.050549030303955,
          -3.2717316150665283,
          10.079567909240723,
          6.157122611999512,
          5.227473735809326,
          -8.987563133239746,
          7.434879302978516,
          -2.7767951488494873,
          1.4755277633666992,
          -2.6663715839385986,
          -9.872217178344727,
          -11.583337783813477,
          2.229933261871338,
          -6.368749618530273,
          -4.374886989593506,
          10.250885009765625,
          -10.669758796691895,
          -4.374545097351074,
          -2.857154369354248,
          -2.3596713542938232,
          3.776527166366577,
          -8.504591941833496,
          -10.029230117797852,
          -0.681162416934967,
          -2.802319288253784,
          1.4379056692123413,
          -9.450900077819824,
          -3.7540054321289062,
          2.6768546104431152,
          2.763293504714966,
          -10.584175109863281,
          1.850034475326538,
          -3.7082629203796387,
          -11.023452758789062,
          -3.3359804153442383,
          -2.5609822273254395,
          3.3837528228759766,
          -2.44346022605896,
          10.674860954284668,
          1.524030327796936,
          2.3422634601593018,
          -2.6329784393310547,
          10.106849670410156,
          2.9585981369018555,
          -5.89235782623291,
          -1.876615047454834,
          3.5664758682250977,
          -9.543725967407227,
          -2.127107620239258,
          5.4093546867370605,
          -6.148754119873047,
          1.09922194480896,
          -3.467930793762207,
          -2.493260383605957,
          3.583052158355713,
          3.4934639930725098,
          -2.4490180015563965,
          3.5370657444000244,
          0.56818026304245,
          7.851129055023193,
          8.238097190856934,
          -8.982477188110352,
          0.9913246035575867,
          2.900606632232666,
          3.5232436656951904,
          -1.9213767051696777,
          3.8469839096069336,
          -0.9789637923240662,
          -1.6789623498916626,
          -10.739252090454102,
          5.504976749420166,
          10.0543794631958,
          4.783086776733398,
          -9.987568855285645,
          6.030117988586426,
          2.87174129486084,
          -3.1038308143615723,
          -8.735773086547852,
          -0.7525699138641357,
          -4.856653213500977,
          -0.6083782315254211,
          9.889545440673828,
          3.4745235443115234,
          3.47780442237854,
          2.9381446838378906,
          7.516007900238037,
          -2.657994270324707,
          -2.7301416397094727,
          -6.042505741119385,
          5.997321128845215,
          -5.344120025634766,
          -2.5979580879211426,
          -7.345779895782471,
          -2.677889585494995,
          4.233577251434326,
          6.669411659240723,
          2.397334098815918,
          -3.912869691848755,
          -2.35781192779541,
          -10.002338409423828,
          -10.834792137145996,
          7.010934352874756,
          -10.360420227050781,
          5.044172763824463,
          -2.705404043197632,
          10.713239669799805,
          6.601537227630615,
          -2.637721538543701,
          4.76224946975708,
          -9.120603561401367,
          -5.295397758483887,
          -7.115968227386475,
          -9.64525318145752,
          -2.190502405166626,
          7.17018461227417,
          -4.7154693603515625,
          4.280764579772949,
          -4.124638557434082,
          5.463053226470947,
          -7.126396179199219,
          -2.4151360988616943,
          -3.354775905609131,
          3.286186456680298,
          -2.5348587036132812,
          9.771073341369629,
          -5.342612266540527,
          0.6407957673072815,
          -3.9632222652435303,
          -3.4362895488739014,
          -1.1486715078353882,
          -2.2302401065826416,
          -5.819481372833252,
          0.21270404756069183,
          8.744915962219238,
          5.752464771270752,
          -5.8228864669799805,
          9.582291603088379,
          5.4951581954956055,
          10.55795955657959,
          5.100619316101074,
          -8.175761222839355,
          3.611638307571411,
          -7.1254448890686035,
          -9.083002090454102,
          -2.367649793624878,
          4.759235858917236,
          -8.693831443786621,
          -5.914747714996338,
          9.938776016235352,
          -1.6324819326400757,
          -2.2597768306732178,
          9.906126976013184,
          0.6743069887161255,
          3.640458583831787,
          4.302633762359619,
          2.742461919784546,
          4.474540710449219,
          -0.6948471665382385,
          -3.028394937515259,
          -5.113085746765137,
          -1.0964245796203613,
          -9.588332176208496,
          -4.321374416351318,
          -0.5395618081092834,
          -2.9494986534118652,
          0.43586066365242004,
          -2.2327232360839844,
          -1.5461819171905518,
          10.081530570983887,
          1.0852519273757935,
          3.815185070037842,
          10.27098560333252,
          4.073195934295654,
          -10.882611274719238,
          5.026887893676758,
          -3.4092910289764404,
          -1.944089412689209,
          -2.1835107803344727,
          7.355340480804443,
          -2.0537984371185303,
          9.238836288452148,
          -2.7015793323516846,
          2.4016876220703125,
          -5.185344219207764,
          0.26862257719039917,
          -2.630314588546753,
          2.2381019592285156,
          2.8383944034576416,
          2.093601703643799,
          -2.186248779296875,
          0.3915395140647888,
          1.510326623916626,
          -9.532228469848633,
          7.3331193923950195,
          -3.4307119846343994,
          -8.301307678222656,
          -6.7371931076049805,
          2.39180850982666,
          0.5812614560127258,
          -6.407042026519775,
          3.5608396530151367,
          -6.726631164550781,
          -4.605265140533447,
          5.103123664855957,
          4.059860706329346,
          -3.177353858947754,
          3.6708614826202393,
          -2.5860180854797363,
          -5.803029537200928,
          -8.546835899353027,
          4.950953960418701,
          -1.3799591064453125,
          -8.754660606384277,
          -9.617461204528809,
          -0.5994886755943298,
          -2.9118599891662598,
          -4.733706474304199,
          -3.3681116104125977,
          10.734601020812988,
          -2.02516770362854,
          2.541893243789673,
          0.13439714908599854,
          2.4028120040893555,
          -1.9237945079803467,
          10.905939102172852,
          3.529423236846924,
          -8.344236373901367,
          -6.739099979400635,
          7.114473342895508,
          0.5091162919998169,
          -8.701187133789062,
          5.811921119689941,
          -2.5064587593078613,
          6.072652339935303,
          -9.197545051574707,
          7.890513896942139,
          10.32194709777832,
          0.17005619406700134,
          -2.741523265838623,
          0.06605859100818634,
          -10.579793930053711,
          6.6562347412109375,
          2.7421376705169678,
          -0.0805765837430954,
          4.894744873046875,
          -9.90477180480957,
          2.8326385021209717,
          -8.875182151794434,
          10.569258689880371,
          -6.587710380554199,
          3.8300042152404785,
          4.850639343261719,
          0.13245658576488495,
          -1.3374276161193848,
          7.982183456420898,
          -9.216064453125,
          -3.0021982192993164,
          7.763885974884033,
          9.893535614013672,
          -2.1532628536224365,
          -1.4711601734161377,
          -3.817006826400757,
          -3.0059852600097656,
          -0.39697450399398804,
          -9.913789749145508,
          -3.3480958938598633,
          6.992050647735596,
          5.414615631103516,
          6.689107894897461,
          9.554227828979492,
          2.713160991668701,
          0.3278944492340088,
          -1.7838010787963867,
          4.686255931854248,
          4.507447719573975,
          -2.73754620552063,
          -9.021154403686523,
          -3.8949813842773438,
          -1.0540494918823242,
          0.20492982864379883,
          -9.084577560424805,
          3.843801259994507,
          -0.700649619102478,
          0.2533847987651825,
          -3.672281265258789,
          -6.004767894744873,
          -3.875619888305664,
          -1.9304563999176025,
          4.626710891723633,
          6.663443565368652,
          -11.377689361572266,
          -6.942862510681152,
          0.5979291796684265,
          -4.597806930541992,
          9.485418319702148,
          -1.6639899015426636,
          10.540897369384766,
          0.43828436732292175,
          10.953377723693848,
          -4.504352569580078,
          8.643582344055176,
          -5.679347515106201,
          9.630303382873535,
          3.6617512702941895,
          4.393994331359863,
          -5.796465873718262,
          2.1160147190093994,
          -3.602605104446411,
          -11.041847229003906,
          -1.270240306854248,
          3.7455036640167236,
          3.6168065071105957,
          8.593295097351074,
          -3.00566029548645,
          8.912521362304688,
          3.7734363079071045,
          -4.2035322189331055,
          9.980587005615234,
          -4.246088981628418,
          0.15997986495494843,
          4.5221967697143555,
          -6.61353874206543,
          9.502678871154785,
          7.279676914215088,
          0.2873605787754059,
          8.000983238220215,
          3.774425983428955,
          4.618206024169922,
          4.8024797439575195,
          -10.280379295349121,
          6.364810943603516,
          -3.5275847911834717,
          -2.291288375854492,
          -3.772446393966675,
          -11.688931465148926,
          -5.8985595703125,
          -2.2791614532470703,
          10.255929946899414,
          5.219993591308594,
          -6.258249282836914,
          0.3028564751148224,
          4.132912635803223,
          0.18969964981079102,
          -9.39759349822998,
          -10.55811882019043,
          -5.4760003089904785,
          -1.6781812906265259,
          3.9195756912231445,
          -9.225659370422363,
          -10.03290843963623,
          10.306614875793457,
          -5.657040119171143,
          -5.05197286605835,
          -0.27849072217941284,
          -9.81234073638916,
          10.000371932983398,
          8.08482837677002,
          -1.853447437286377,
          -2.0279083251953125,
          2.8002471923828125,
          -9.54217529296875,
          10.092108726501465,
          2.684267044067383,
          -0.5913389325141907,
          -3.3746700286865234,
          -4.029922008514404,
          0.4580795168876648,
          -2.5278401374816895,
          -8.295347213745117,
          -3.3849666118621826,
          -2.1108410358428955,
          -2.4561102390289307,
          4.210373401641846,
          -6.734457969665527,
          10.569158554077148,
          -9.861594200134277,
          -6.2920050621032715,
          3.54418683052063,
          3.8305978775024414,
          7.947244167327881,
          3.8871560096740723,
          -0.9572024941444397,
          0.9970529675483704,
          -2.1179189682006836,
          -6.440976142883301,
          -3.4216058254241943,
          -7.389694690704346,
          2.3951025009155273,
          -2.8971190452575684,
          3.0963525772094727,
          -6.480813026428223,
          10.017375946044922,
          3.49428653717041,
          10.482979774475098,
          -2.6746230125427246,
          -4.561514377593994,
          2.5236732959747314,
          2.4581074714660645,
          -2.0617525577545166,
          3.0405819416046143,
          -2.187856912612915,
          2.4633054733276367,
          -1.5228110551834106,
          -2.3993828296661377,
          -4.400906562805176,
          6.341247081756592,
          5.20904016494751,
          -3.0324747562408447,
          9.817792892456055,
          7.510420799255371,
          -0.7559155225753784,
          9.678461074829102,
          -1.9997742176055908,
          0.28778693079948425,
          -0.8031506538391113,
          -1.4068368673324585,
          -2.4136948585510254,
          -1.494614601135254,
          0.14773806929588318,
          5.7506794929504395,
          3.818756341934204,
          -5.793277740478516,
          1.7889301776885986,
          2.516913890838623,
          -5.915040969848633,
          -3.417119026184082,
          -2.2952961921691895,
          7.7692060470581055,
          2.2347400188446045,
          4.6239471435546875,
          -9.496158599853516,
          3.012099266052246,
          4.574655532836914,
          7.597637176513672,
          3.099824905395508,
          -1.8127071857452393,
          -3.111790418624878,
          5.278308868408203,
          -1.1073551177978516,
          2.7618494033813477,
          -1.1392439603805542,
          -0.2583944797515869,
          2.4080491065979004,
          -0.41433385014533997,
          -2.8618409633636475,
          -4.020537376403809,
          -5.129281997680664,
          4.535915374755859,
          -6.525909423828125,
          -2.3400461673736572,
          -1.354629635810852,
          0.12164311856031418,
          3.6116693019866943,
          10.611244201660156,
          2.712116003036499,
          -5.783388137817383,
          -1.6922552585601807,
          8.01939868927002,
          -11.420326232910156,
          1.5342432260513306,
          8.463142395019531,
          -2.991827964782715,
          -2.0566415786743164,
          -2.6378328800201416,
          8.108327865600586,
          2.584887981414795,
          -11.189878463745117,
          -8.027159690856934,
          -10.08765983581543,
          5.364524841308594,
          2.428755760192871,
          -1.6291757822036743,
          -0.7809208631515503,
          -5.290490627288818,
          -2.586094379425049,
          3.084047317504883,
          -0.47490742802619934,
          -0.5926032662391663,
          8.311137199401855,
          5.353923320770264,
          3.867953300476074,
          3.118675708770752,
          4.317739009857178,
          -2.4279632568359375,
          0.18949773907661438,
          2.6900742053985596,
          3.494696617126465,
          -5.898340225219727,
          7.239906311035156,
          5.443399429321289,
          1.3101707696914673,
          -2.882286310195923,
          3.5985589027404785,
          2.9604907035827637,
          -2.5179481506347656,
          -9.849702835083008,
          7.765380859375,
          10.505797386169434,
          -6.036191463470459,
          -6.448531627655029,
          -2.9642229080200195,
          10.164737701416016,
          -0.019717156887054443,
          5.900424480438232,
          1.8171478509902954,
          4.709091663360596,
          -4.095814228057861,
          -3.0414540767669678,
          10.1629638671875,
          -6.049400329589844,
          4.465224266052246,
          2.8929574489593506,
          3.1110594272613525,
          -4.800797939300537,
          2.281447649002075,
          11.03666877746582,
          -9.99433708190918,
          -3.0499565601348877,
          2.729349136352539,
          -4.877192497253418,
          6.4598212242126465,
          2.6514153480529785,
          0.28947508335113525,
          -2.3742895126342773,
          4.810580730438232,
          -9.17827320098877,
          5.462460041046143,
          -1.8434746265411377,
          -1.6450504064559937,
          -5.7422614097595215,
          -8.272555351257324,
          -2.3609542846679688,
          -2.820516586303711,
          -2.628751516342163,
          -9.732135772705078,
          -2.462280750274658,
          -2.328091859817505,
          4.806532382965088,
          4.094850540161133,
          -8.695363998413086,
          -5.957774639129639,
          -5.639093399047852,
          -2.66328763961792,
          0.2316606342792511,
          -4.9014129638671875,
          0.16099321842193604,
          -10.043282508850098,
          3.753697395324707,
          2.702984094619751,
          9.143035888671875,
          4.595078468322754,
          -4.018484592437744,
          8.13710880279541,
          -9.324777603149414,
          -2.0239109992980957,
          -0.7228907942771912,
          -6.592940330505371,
          1.786405324935913,
          -0.9068870544433594,
          3.240679979324341,
          9.39041519165039,
          -4.757370948791504,
          -1.726690649986267,
          -5.965480327606201,
          3.988112211227417,
          -2.1282424926757812,
          -9.975449562072754,
          -3.0287070274353027,
          -0.293376624584198,
          -5.875792503356934,
          1.8707696199417114,
          -1.2685409784317017,
          -2.441784143447876,
          10.490038871765137,
          -4.822303771972656,
          7.844573497772217,
          9.644501686096191,
          -3.3707220554351807,
          9.458017349243164,
          2.834487199783325,
          7.956150531768799,
          -8.81135082244873,
          3.286247730255127,
          -9.15965747833252,
          1.0810697078704834,
          -0.9722298383712769,
          8.9904203414917,
          9.77705192565918,
          5.245861053466797,
          -10.233180046081543,
          4.785887241363525,
          -4.285221099853516,
          7.484803676605225,
          -5.3284149169921875,
          5.963378429412842,
          0.11925378441810608,
          1.9280046224594116,
          2.8766345977783203,
          -6.583742618560791,
          5.495350360870361,
          -2.576981544494629,
          -0.2772673964500427,
          0.0014960530679672956,
          -1.7372124195098877
         ],
         "yaxis": "y"
        }
       ],
       "layout": {
        "legend": {
         "tracegroupgap": 0
        },
        "margin": {
         "t": 60
        },
        "paper_bgcolor": "rgba(0, 0, 0, 0)",
        "plot_bgcolor": "rgba(0, 0, 0, 0)",
        "template": {
         "data": {
          "bar": [
           {
            "error_x": {
             "color": "#2a3f5f"
            },
            "error_y": {
             "color": "#2a3f5f"
            },
            "marker": {
             "line": {
              "color": "#E5ECF6",
              "width": 0.5
             },
             "pattern": {
              "fillmode": "overlay",
              "size": 10,
              "solidity": 0.2
             }
            },
            "type": "bar"
           }
          ],
          "barpolar": [
           {
            "marker": {
             "line": {
              "color": "#E5ECF6",
              "width": 0.5
             },
             "pattern": {
              "fillmode": "overlay",
              "size": 10,
              "solidity": 0.2
             }
            },
            "type": "barpolar"
           }
          ],
          "carpet": [
           {
            "aaxis": {
             "endlinecolor": "#2a3f5f",
             "gridcolor": "white",
             "linecolor": "white",
             "minorgridcolor": "white",
             "startlinecolor": "#2a3f5f"
            },
            "baxis": {
             "endlinecolor": "#2a3f5f",
             "gridcolor": "white",
             "linecolor": "white",
             "minorgridcolor": "white",
             "startlinecolor": "#2a3f5f"
            },
            "type": "carpet"
           }
          ],
          "choropleth": [
           {
            "colorbar": {
             "outlinewidth": 0,
             "ticks": ""
            },
            "type": "choropleth"
           }
          ],
          "contour": [
           {
            "colorbar": {
             "outlinewidth": 0,
             "ticks": ""
            },
            "colorscale": [
             [
              0,
              "#0d0887"
             ],
             [
              0.1111111111111111,
              "#46039f"
             ],
             [
              0.2222222222222222,
              "#7201a8"
             ],
             [
              0.3333333333333333,
              "#9c179e"
             ],
             [
              0.4444444444444444,
              "#bd3786"
             ],
             [
              0.5555555555555556,
              "#d8576b"
             ],
             [
              0.6666666666666666,
              "#ed7953"
             ],
             [
              0.7777777777777778,
              "#fb9f3a"
             ],
             [
              0.8888888888888888,
              "#fdca26"
             ],
             [
              1,
              "#f0f921"
             ]
            ],
            "type": "contour"
           }
          ],
          "contourcarpet": [
           {
            "colorbar": {
             "outlinewidth": 0,
             "ticks": ""
            },
            "type": "contourcarpet"
           }
          ],
          "heatmap": [
           {
            "colorbar": {
             "outlinewidth": 0,
             "ticks": ""
            },
            "colorscale": [
             [
              0,
              "#0d0887"
             ],
             [
              0.1111111111111111,
              "#46039f"
             ],
             [
              0.2222222222222222,
              "#7201a8"
             ],
             [
              0.3333333333333333,
              "#9c179e"
             ],
             [
              0.4444444444444444,
              "#bd3786"
             ],
             [
              0.5555555555555556,
              "#d8576b"
             ],
             [
              0.6666666666666666,
              "#ed7953"
             ],
             [
              0.7777777777777778,
              "#fb9f3a"
             ],
             [
              0.8888888888888888,
              "#fdca26"
             ],
             [
              1,
              "#f0f921"
             ]
            ],
            "type": "heatmap"
           }
          ],
          "heatmapgl": [
           {
            "colorbar": {
             "outlinewidth": 0,
             "ticks": ""
            },
            "colorscale": [
             [
              0,
              "#0d0887"
             ],
             [
              0.1111111111111111,
              "#46039f"
             ],
             [
              0.2222222222222222,
              "#7201a8"
             ],
             [
              0.3333333333333333,
              "#9c179e"
             ],
             [
              0.4444444444444444,
              "#bd3786"
             ],
             [
              0.5555555555555556,
              "#d8576b"
             ],
             [
              0.6666666666666666,
              "#ed7953"
             ],
             [
              0.7777777777777778,
              "#fb9f3a"
             ],
             [
              0.8888888888888888,
              "#fdca26"
             ],
             [
              1,
              "#f0f921"
             ]
            ],
            "type": "heatmapgl"
           }
          ],
          "histogram": [
           {
            "marker": {
             "pattern": {
              "fillmode": "overlay",
              "size": 10,
              "solidity": 0.2
             }
            },
            "type": "histogram"
           }
          ],
          "histogram2d": [
           {
            "colorbar": {
             "outlinewidth": 0,
             "ticks": ""
            },
            "colorscale": [
             [
              0,
              "#0d0887"
             ],
             [
              0.1111111111111111,
              "#46039f"
             ],
             [
              0.2222222222222222,
              "#7201a8"
             ],
             [
              0.3333333333333333,
              "#9c179e"
             ],
             [
              0.4444444444444444,
              "#bd3786"
             ],
             [
              0.5555555555555556,
              "#d8576b"
             ],
             [
              0.6666666666666666,
              "#ed7953"
             ],
             [
              0.7777777777777778,
              "#fb9f3a"
             ],
             [
              0.8888888888888888,
              "#fdca26"
             ],
             [
              1,
              "#f0f921"
             ]
            ],
            "type": "histogram2d"
           }
          ],
          "histogram2dcontour": [
           {
            "colorbar": {
             "outlinewidth": 0,
             "ticks": ""
            },
            "colorscale": [
             [
              0,
              "#0d0887"
             ],
             [
              0.1111111111111111,
              "#46039f"
             ],
             [
              0.2222222222222222,
              "#7201a8"
             ],
             [
              0.3333333333333333,
              "#9c179e"
             ],
             [
              0.4444444444444444,
              "#bd3786"
             ],
             [
              0.5555555555555556,
              "#d8576b"
             ],
             [
              0.6666666666666666,
              "#ed7953"
             ],
             [
              0.7777777777777778,
              "#fb9f3a"
             ],
             [
              0.8888888888888888,
              "#fdca26"
             ],
             [
              1,
              "#f0f921"
             ]
            ],
            "type": "histogram2dcontour"
           }
          ],
          "mesh3d": [
           {
            "colorbar": {
             "outlinewidth": 0,
             "ticks": ""
            },
            "type": "mesh3d"
           }
          ],
          "parcoords": [
           {
            "line": {
             "colorbar": {
              "outlinewidth": 0,
              "ticks": ""
             }
            },
            "type": "parcoords"
           }
          ],
          "pie": [
           {
            "automargin": true,
            "type": "pie"
           }
          ],
          "scatter": [
           {
            "fillpattern": {
             "fillmode": "overlay",
             "size": 10,
             "solidity": 0.2
            },
            "type": "scatter"
           }
          ],
          "scatter3d": [
           {
            "line": {
             "colorbar": {
              "outlinewidth": 0,
              "ticks": ""
             }
            },
            "marker": {
             "colorbar": {
              "outlinewidth": 0,
              "ticks": ""
             }
            },
            "type": "scatter3d"
           }
          ],
          "scattercarpet": [
           {
            "marker": {
             "colorbar": {
              "outlinewidth": 0,
              "ticks": ""
             }
            },
            "type": "scattercarpet"
           }
          ],
          "scattergeo": [
           {
            "marker": {
             "colorbar": {
              "outlinewidth": 0,
              "ticks": ""
             }
            },
            "type": "scattergeo"
           }
          ],
          "scattergl": [
           {
            "marker": {
             "colorbar": {
              "outlinewidth": 0,
              "ticks": ""
             }
            },
            "type": "scattergl"
           }
          ],
          "scattermapbox": [
           {
            "marker": {
             "colorbar": {
              "outlinewidth": 0,
              "ticks": ""
             }
            },
            "type": "scattermapbox"
           }
          ],
          "scatterpolar": [
           {
            "marker": {
             "colorbar": {
              "outlinewidth": 0,
              "ticks": ""
             }
            },
            "type": "scatterpolar"
           }
          ],
          "scatterpolargl": [
           {
            "marker": {
             "colorbar": {
              "outlinewidth": 0,
              "ticks": ""
             }
            },
            "type": "scatterpolargl"
           }
          ],
          "scatterternary": [
           {
            "marker": {
             "colorbar": {
              "outlinewidth": 0,
              "ticks": ""
             }
            },
            "type": "scatterternary"
           }
          ],
          "surface": [
           {
            "colorbar": {
             "outlinewidth": 0,
             "ticks": ""
            },
            "colorscale": [
             [
              0,
              "#0d0887"
             ],
             [
              0.1111111111111111,
              "#46039f"
             ],
             [
              0.2222222222222222,
              "#7201a8"
             ],
             [
              0.3333333333333333,
              "#9c179e"
             ],
             [
              0.4444444444444444,
              "#bd3786"
             ],
             [
              0.5555555555555556,
              "#d8576b"
             ],
             [
              0.6666666666666666,
              "#ed7953"
             ],
             [
              0.7777777777777778,
              "#fb9f3a"
             ],
             [
              0.8888888888888888,
              "#fdca26"
             ],
             [
              1,
              "#f0f921"
             ]
            ],
            "type": "surface"
           }
          ],
          "table": [
           {
            "cells": {
             "fill": {
              "color": "#EBF0F8"
             },
             "line": {
              "color": "white"
             }
            },
            "header": {
             "fill": {
              "color": "#C8D4E3"
             },
             "line": {
              "color": "white"
             }
            },
            "type": "table"
           }
          ]
         },
         "layout": {
          "annotationdefaults": {
           "arrowcolor": "#2a3f5f",
           "arrowhead": 0,
           "arrowwidth": 1
          },
          "autotypenumbers": "strict",
          "coloraxis": {
           "colorbar": {
            "outlinewidth": 0,
            "ticks": ""
           }
          },
          "colorscale": {
           "diverging": [
            [
             0,
             "#8e0152"
            ],
            [
             0.1,
             "#c51b7d"
            ],
            [
             0.2,
             "#de77ae"
            ],
            [
             0.3,
             "#f1b6da"
            ],
            [
             0.4,
             "#fde0ef"
            ],
            [
             0.5,
             "#f7f7f7"
            ],
            [
             0.6,
             "#e6f5d0"
            ],
            [
             0.7,
             "#b8e186"
            ],
            [
             0.8,
             "#7fbc41"
            ],
            [
             0.9,
             "#4d9221"
            ],
            [
             1,
             "#276419"
            ]
           ],
           "sequential": [
            [
             0,
             "#0d0887"
            ],
            [
             0.1111111111111111,
             "#46039f"
            ],
            [
             0.2222222222222222,
             "#7201a8"
            ],
            [
             0.3333333333333333,
             "#9c179e"
            ],
            [
             0.4444444444444444,
             "#bd3786"
            ],
            [
             0.5555555555555556,
             "#d8576b"
            ],
            [
             0.6666666666666666,
             "#ed7953"
            ],
            [
             0.7777777777777778,
             "#fb9f3a"
            ],
            [
             0.8888888888888888,
             "#fdca26"
            ],
            [
             1,
             "#f0f921"
            ]
           ],
           "sequentialminus": [
            [
             0,
             "#0d0887"
            ],
            [
             0.1111111111111111,
             "#46039f"
            ],
            [
             0.2222222222222222,
             "#7201a8"
            ],
            [
             0.3333333333333333,
             "#9c179e"
            ],
            [
             0.4444444444444444,
             "#bd3786"
            ],
            [
             0.5555555555555556,
             "#d8576b"
            ],
            [
             0.6666666666666666,
             "#ed7953"
            ],
            [
             0.7777777777777778,
             "#fb9f3a"
            ],
            [
             0.8888888888888888,
             "#fdca26"
            ],
            [
             1,
             "#f0f921"
            ]
           ]
          },
          "colorway": [
           "#636efa",
           "#EF553B",
           "#00cc96",
           "#ab63fa",
           "#FFA15A",
           "#19d3f3",
           "#FF6692",
           "#B6E880",
           "#FF97FF",
           "#FECB52"
          ],
          "font": {
           "color": "#2a3f5f"
          },
          "geo": {
           "bgcolor": "white",
           "lakecolor": "white",
           "landcolor": "#E5ECF6",
           "showlakes": true,
           "showland": true,
           "subunitcolor": "white"
          },
          "hoverlabel": {
           "align": "left"
          },
          "hovermode": "closest",
          "mapbox": {
           "style": "light"
          },
          "paper_bgcolor": "white",
          "plot_bgcolor": "#E5ECF6",
          "polar": {
           "angularaxis": {
            "gridcolor": "white",
            "linecolor": "white",
            "ticks": ""
           },
           "bgcolor": "#E5ECF6",
           "radialaxis": {
            "gridcolor": "white",
            "linecolor": "white",
            "ticks": ""
           }
          },
          "scene": {
           "xaxis": {
            "backgroundcolor": "#E5ECF6",
            "gridcolor": "white",
            "gridwidth": 2,
            "linecolor": "white",
            "showbackground": true,
            "ticks": "",
            "zerolinecolor": "white"
           },
           "yaxis": {
            "backgroundcolor": "#E5ECF6",
            "gridcolor": "white",
            "gridwidth": 2,
            "linecolor": "white",
            "showbackground": true,
            "ticks": "",
            "zerolinecolor": "white"
           },
           "zaxis": {
            "backgroundcolor": "#E5ECF6",
            "gridcolor": "white",
            "gridwidth": 2,
            "linecolor": "white",
            "showbackground": true,
            "ticks": "",
            "zerolinecolor": "white"
           }
          },
          "shapedefaults": {
           "line": {
            "color": "#2a3f5f"
           }
          },
          "ternary": {
           "aaxis": {
            "gridcolor": "white",
            "linecolor": "white",
            "ticks": ""
           },
           "baxis": {
            "gridcolor": "white",
            "linecolor": "white",
            "ticks": ""
           },
           "bgcolor": "#E5ECF6",
           "caxis": {
            "gridcolor": "white",
            "linecolor": "white",
            "ticks": ""
           }
          },
          "title": {
           "x": 0.05
          },
          "xaxis": {
           "automargin": true,
           "gridcolor": "white",
           "linecolor": "white",
           "ticks": "",
           "title": {
            "standoff": 15
           },
           "zerolinecolor": "white",
           "zerolinewidth": 2
          },
          "yaxis": {
           "automargin": true,
           "gridcolor": "white",
           "linecolor": "white",
           "ticks": "",
           "title": {
            "standoff": 15
           },
           "zerolinecolor": "white",
           "zerolinewidth": 2
          }
         }
        },
        "xaxis": {
         "anchor": "y",
         "domain": [
          0,
          1
         ],
         "title": {
          "text": ""
         }
        },
        "yaxis": {
         "anchor": "x",
         "domain": [
          0,
          1
         ],
         "title": {
          "text": ""
         }
        }
       }
      }
     },
     "metadata": {},
     "output_type": "display_data"
    }
   ],
   "source": [
    "fig = px.scatter(x=xs, y=ys,\n",
    "                 labels = {'x': '', 'y': '', 'z':''},\n",
    "                 )\n",
    "fig.update_layout({'plot_bgcolor': 'rgba(0, 0, 0, 0)', 'paper_bgcolor': 'rgba(0, 0, 0, 0)'})\n",
    "fig.write_html(G_reports_figures/'{}.html'.format('main'))\n",
    "fig.show()"
   ]
  },
  {
   "cell_type": "code",
   "execution_count": null,
   "metadata": {},
   "outputs": [],
   "source": []
  },
  {
   "cell_type": "code",
   "execution_count": null,
   "metadata": {},
   "outputs": [],
   "source": []
  },
  {
   "cell_type": "code",
   "execution_count": null,
   "metadata": {},
   "outputs": [],
   "source": []
  },
  {
   "cell_type": "code",
   "execution_count": null,
   "metadata": {},
   "outputs": [],
   "source": []
  },
  {
   "cell_type": "code",
   "execution_count": null,
   "metadata": {},
   "outputs": [],
   "source": []
  },
  {
   "cell_type": "code",
   "execution_count": null,
   "metadata": {},
   "outputs": [],
   "source": []
  },
  {
   "cell_type": "code",
   "execution_count": 9,
   "metadata": {},
   "outputs": [
    {
     "name": "stdout",
     "output_type": "stream",
     "text": [
      "ok_\n"
     ]
    }
   ],
   "source": [
    "print('ok_')"
   ]
  }
 ],
 "metadata": {
  "kernelspec": {
   "display_name": "Python 3",
   "language": "python",
   "name": "python3"
  },
  "language_info": {
   "codemirror_mode": {
    "name": "ipython",
    "version": 3
   },
   "file_extension": ".py",
   "mimetype": "text/x-python",
   "name": "python",
   "nbconvert_exporter": "python",
   "pygments_lexer": "ipython3",
   "version": "3.11.0"
  },
  "orig_nbformat": 4,
  "vscode": {
   "interpreter": {
    "hash": "5238573367df39f7286bb46f9ff5f08f63a01a80960060ce41e3c79b190280fa"
   }
  }
 },
 "nbformat": 4,
 "nbformat_minor": 2
}
