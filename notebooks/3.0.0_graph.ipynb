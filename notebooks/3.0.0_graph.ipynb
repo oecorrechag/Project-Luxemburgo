{
 "cells": [
  {
   "attachments": {},
   "cell_type": "markdown",
   "metadata": {},
   "source": [
    "# 3.0.0 Graph"
   ]
  },
  {
   "cell_type": "code",
   "execution_count": 1,
   "metadata": {},
   "outputs": [],
   "source": [
    "%load_ext autoreload\n",
    "%autoreload 2"
   ]
  },
  {
   "cell_type": "code",
   "execution_count": 2,
   "metadata": {},
   "outputs": [],
   "source": [
    "import pandas as pd\n",
    "import numpy as np\n",
    "\n",
    "import matplotlib.pyplot as plt\n",
    "import plotly.express as px\n",
    "\n",
    "from sklearn.manifold import TSNE\n",
    "\n",
    "pd.set_option('display.max_columns', None)\n",
    "pd.set_option('display.max_rows', None)\n",
    "import warnings\n",
    "warnings.filterwarnings(\"ignore\")"
   ]
  },
  {
   "cell_type": "code",
   "execution_count": 3,
   "metadata": {},
   "outputs": [],
   "source": [
    "import sys\n",
    "sys.path.append(\"../\") \n",
    "\n",
    "from utils.paths2 import direcciones_cursos\n",
    "from utils.utils import scatter_tsne, scatter_tsne_color\n",
    "\n",
    "G_raw, G_processed, G_interim, G_external, G_models, G_reports, G_reports_figures = direcciones_cursos('luxemburgo')"
   ]
  },
  {
   "cell_type": "code",
   "execution_count": 4,
   "metadata": {},
   "outputs": [],
   "source": [
    "df = pd.read_parquet(G_models/'df.parquet.gzip')"
   ]
  },
  {
   "cell_type": "code",
   "execution_count": 5,
   "metadata": {},
   "outputs": [
    {
     "data": {
      "text/html": [
       "<div>\n",
       "<style scoped>\n",
       "    .dataframe tbody tr th:only-of-type {\n",
       "        vertical-align: middle;\n",
       "    }\n",
       "\n",
       "    .dataframe tbody tr th {\n",
       "        vertical-align: top;\n",
       "    }\n",
       "\n",
       "    .dataframe thead th {\n",
       "        text-align: right;\n",
       "    }\n",
       "</style>\n",
       "<table border=\"1\" class=\"dataframe\">\n",
       "  <thead>\n",
       "    <tr style=\"text-align: right;\">\n",
       "      <th></th>\n",
       "      <th>x</th>\n",
       "      <th>y</th>\n",
       "      <th>model1</th>\n",
       "      <th>model2</th>\n",
       "      <th>model3</th>\n",
       "      <th>model4</th>\n",
       "    </tr>\n",
       "  </thead>\n",
       "  <tbody>\n",
       "    <tr>\n",
       "      <th>0</th>\n",
       "      <td>33.593803</td>\n",
       "      <td>14.113381</td>\n",
       "      <td>1</td>\n",
       "      <td>-1</td>\n",
       "      <td>-1</td>\n",
       "      <td>False</td>\n",
       "    </tr>\n",
       "    <tr>\n",
       "      <th>1</th>\n",
       "      <td>29.631353</td>\n",
       "      <td>7.634467</td>\n",
       "      <td>1</td>\n",
       "      <td>-1</td>\n",
       "      <td>1</td>\n",
       "      <td>False</td>\n",
       "    </tr>\n",
       "    <tr>\n",
       "      <th>2</th>\n",
       "      <td>-31.988050</td>\n",
       "      <td>-10.356956</td>\n",
       "      <td>1</td>\n",
       "      <td>1</td>\n",
       "      <td>1</td>\n",
       "      <td>False</td>\n",
       "    </tr>\n",
       "    <tr>\n",
       "      <th>3</th>\n",
       "      <td>-31.582409</td>\n",
       "      <td>-11.002548</td>\n",
       "      <td>1</td>\n",
       "      <td>-1</td>\n",
       "      <td>1</td>\n",
       "      <td>False</td>\n",
       "    </tr>\n",
       "    <tr>\n",
       "      <th>4</th>\n",
       "      <td>13.691630</td>\n",
       "      <td>-19.692493</td>\n",
       "      <td>1</td>\n",
       "      <td>-1</td>\n",
       "      <td>1</td>\n",
       "      <td>False</td>\n",
       "    </tr>\n",
       "  </tbody>\n",
       "</table>\n",
       "</div>"
      ],
      "text/plain": [
       "           x          y model1 model2 model3 model4\n",
       "0  33.593803  14.113381      1     -1     -1  False\n",
       "1  29.631353   7.634467      1     -1      1  False\n",
       "2 -31.988050 -10.356956      1      1      1  False\n",
       "3 -31.582409 -11.002548      1     -1      1  False\n",
       "4  13.691630 -19.692493      1     -1      1  False"
      ]
     },
     "execution_count": 5,
     "metadata": {},
     "output_type": "execute_result"
    }
   ],
   "source": [
    "# Create a TSNE instance: model\n",
    "model = TSNE(n_components=2, learning_rate='auto')\n",
    "# Apply fit_transform to samples: tsne_features\n",
    "tsne_features = model.fit_transform(df)\n",
    "\n",
    "# save\n",
    "df2 = {'x': tsne_features[:,0], \n",
    "       'y': tsne_features[:,1],\n",
    "       'model1': df['Model_1'],\n",
    "       'model2': df['Model_2'],\n",
    "       'model3': df['Model_3'],\n",
    "       'model4': df['label'],\n",
    "      }\n",
    "df2 = pd.DataFrame.from_dict(df2)\n",
    "df2[['model1', 'model2', 'model3', 'model4']] = df2[['model1', 'model2', 'model3', 'model4']].astype(str)\n",
    "df2.head()"
   ]
  },
  {
   "cell_type": "code",
   "execution_count": 7,
   "metadata": {},
   "outputs": [],
   "source": [
    "fig = scatter_tsne(df2, 'x', 'y', '')\n",
    "fig.write_html(G_reports_figures/'{}.html'.format('main'))\n",
    "fig.write_image(G_reports_figures/'{}.png'.format('main'))"
   ]
  },
  {
   "cell_type": "code",
   "execution_count": 8,
   "metadata": {},
   "outputs": [],
   "source": [
    "fig = scatter_tsne_color(df2, 'x', 'y', 'model1', 'Local Outlier Factor')\n",
    "fig.write_html(G_reports_figures/'{}.html'.format('localoutlierfactor'))\n",
    "fig.write_image(G_reports_figures/'{}.png'.format('localoutlierfactor'))"
   ]
  },
  {
   "cell_type": "code",
   "execution_count": 9,
   "metadata": {},
   "outputs": [],
   "source": [
    "fig = scatter_tsne_color(df2, 'x', 'y', 'model2', 'Isolation Forest')\n",
    "fig.write_html(G_reports_figures/'{}.html'.format('isolationforest'))\n",
    "fig.write_image(G_reports_figures/'{}.png'.format('isolationforest'))"
   ]
  },
  {
   "cell_type": "code",
   "execution_count": 10,
   "metadata": {},
   "outputs": [],
   "source": [
    "fig = scatter_tsne_color(df2, 'x', 'y', 'model3', 'One Class SVM')\n",
    "fig.write_html(G_reports_figures/'{}.html'.format('oneclasssvm'))\n",
    "fig.write_image(G_reports_figures/'{}.png'.format('oneclasssvm'))"
   ]
  },
  {
   "cell_type": "code",
   "execution_count": 11,
   "metadata": {},
   "outputs": [],
   "source": [
    "fig = scatter_tsne_color(df2, 'x', 'y', 'model4', 'Outliers vs not outliers')\n",
    "fig.write_html(G_reports_figures/'{}.html'.format('outliers'))\n",
    "fig.write_image(G_reports_figures/'{}.png'.format('outliers'))"
   ]
  },
  {
   "cell_type": "code",
   "execution_count": 12,
   "metadata": {},
   "outputs": [
    {
     "name": "stdout",
     "output_type": "stream",
     "text": [
      "ok_\n"
     ]
    }
   ],
   "source": [
    "print('ok_')"
   ]
  }
 ],
 "metadata": {
  "kernelspec": {
   "display_name": "Python 3",
   "language": "python",
   "name": "python3"
  },
  "language_info": {
   "codemirror_mode": {
    "name": "ipython",
    "version": 3
   },
   "file_extension": ".py",
   "mimetype": "text/x-python",
   "name": "python",
   "nbconvert_exporter": "python",
   "pygments_lexer": "ipython3",
   "version": "3.11.0"
  },
  "orig_nbformat": 4,
  "vscode": {
   "interpreter": {
    "hash": "5238573367df39f7286bb46f9ff5f08f63a01a80960060ce41e3c79b190280fa"
   }
  }
 },
 "nbformat": 4,
 "nbformat_minor": 2
}
